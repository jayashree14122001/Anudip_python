{
 "cells": [
  {
   "cell_type": "code",
   "execution_count": 1,
   "id": "39ca4bc1-53af-4c33-a036-f8735dd0c25b",
   "metadata": {},
   "outputs": [],
   "source": [
    "'''Suppose you are managing a website and want to analyze the monthly revenue\n",
    "generated from advertising. You have recorded the monthly revenue for the past year,\n",
    "and you want to represent this data using a Pandas Series.\n",
    "'''\n",
    "\n",
    "import pandas as pd"
   ]
  },
  {
   "cell_type": "code",
   "execution_count": 2,
   "id": "032d6658-67e3-46bb-93ff-5067b2a84f3a",
   "metadata": {},
   "outputs": [
    {
     "name": "stdout",
     "output_type": "stream",
     "text": [
      "Revenue generated from advertising:\n",
      "January      5000\n",
      "February     5200\n",
      "March        4800\n",
      "April        5400\n",
      "May          5600\n",
      "June         5800\n",
      "July         6100\n",
      "August       5900\n",
      "September    6200\n",
      "October      6500\n",
      "November     7000\n",
      "December     6900\n",
      "Name: Monthly Advertising Revenue (USD), dtype: int64\n"
     ]
    }
   ],
   "source": [
    "# Months in a year\n",
    "months = ['January', 'February', 'March', 'April', 'May', 'June', 'July', 'August','September', 'October', 'November', 'December']\n",
    "# Monthly advertising revenue data (example data in USD)\n",
    "revenue = [5000, 5200, 4800, 5400, 5600, 5800, 6100, 5900, 6200, 6500, 7000, 6900]\n",
    "\n",
    "#creating a pandas series for monthly revenue generated from advertising\n",
    "advertising_revenue_series= pd.Series(revenue,index=months,name='Monthly Advertising Revenue (USD)')  \n",
    "\n",
    "print(\"Revenue generated from advertising:\")         #printing the heading for the series\n",
    "print(advertising_revenue_series)     #printing the created pandas series for monthly revenue generated from advertising"
   ]
  },
  {
   "cell_type": "code",
   "execution_count": null,
   "id": "3a21b749-679c-4f4d-8c59-92908e984876",
   "metadata": {},
   "outputs": [],
   "source": []
  }
 ],
 "metadata": {
  "kernelspec": {
   "display_name": "Python 3 (ipykernel)",
   "language": "python",
   "name": "python3"
  },
  "language_info": {
   "codemirror_mode": {
    "name": "ipython",
    "version": 3
   },
   "file_extension": ".py",
   "mimetype": "text/x-python",
   "name": "python",
   "nbconvert_exporter": "python",
   "pygments_lexer": "ipython3",
   "version": "3.9.7"
  }
 },
 "nbformat": 4,
 "nbformat_minor": 5
}
