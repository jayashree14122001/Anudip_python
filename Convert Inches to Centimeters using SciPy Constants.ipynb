{
 "cells": [
  {
   "cell_type": "markdown",
   "id": "e9370a63-55e6-4bea-8781-42ac4a0c724a",
   "metadata": {},
   "source": [
    "Write a python program to read the Inches from the below .csv file and then Convert Inches to Centimeters using SciPy Constants. After that\n",
    "display the first 5 records and also save the calculated result into a new csv file.\n",
    "Input: https://raw.githubusercontent.com/AnudipAE/DANLC/master/people_heights.csv"
   ]
  },
  {
   "cell_type": "code",
   "execution_count": 38,
   "id": "7c953431-3e78-4ee7-b156-64d3a2461e5e",
   "metadata": {},
   "outputs": [],
   "source": [
    "import pandas as pd                      #importing pandas library as pd\n",
    "import scipy                             #importing scipy\n",
    "from scipy.constants import inch        #importing inch constant from scipy.constants library"
   ]
  },
  {
   "cell_type": "code",
   "execution_count": 41,
   "id": "2c50ae1b-510f-431b-a70b-3294bb9afd3b",
   "metadata": {},
   "outputs": [],
   "source": [
    "url = \"https://raw.githubusercontent.com/AnudipAE/DANLC/master/people_heights.csv\"  #storing the csv file's url \n",
    "df = pd.read_csv(url)            # Read the CSV file and storing into the variable 'df'"
   ]
  },
  {
   "cell_type": "code",
   "execution_count": 40,
   "id": "06fc3f13-f709-41d2-aa1f-3efcb079c671",
   "metadata": {},
   "outputs": [
    {
     "name": "stdout",
     "output_type": "stream",
     "text": [
      "First 5 records:\n",
      "       Name  Height (inches)  Height(cm)\n",
      "0  Person 1            60.03    152.4762\n",
      "1  Person 2            49.51    125.7554\n",
      "2  Person 3            82.97    210.7438\n",
      "3  Person 4            64.19    163.0426\n",
      "4  Person 5            54.42    138.2268\n",
      "\n",
      "Converted heights saved to 'heights_in_cm.csv'.\n"
     ]
    }
   ],
   "source": [
    "df['Height(cm)'] = df['Height (inches)']  * inch * 100         # Convert inches to centimeters for each record\n",
    "\n",
    "print(\"First 5 records:\")                                      # Display first 5 records           \n",
    "print(df.head())\n",
    "\n",
    "output_file = \"heights_in_cm.csv\"                              # Save calculated result to a new CSV file\n",
    "df.to_csv(output_file, index=False)\n",
    "print(f\"\\nConverted heights saved to '{output_file}'.\")        #printing a statement"
   ]
  },
  {
   "cell_type": "code",
   "execution_count": null,
   "id": "551e30e9-b650-496c-a4b8-8cceb728381b",
   "metadata": {},
   "outputs": [],
   "source": []
  }
 ],
 "metadata": {
  "kernelspec": {
   "display_name": "Python 3 (ipykernel)",
   "language": "python",
   "name": "python3"
  },
  "language_info": {
   "codemirror_mode": {
    "name": "ipython",
    "version": 3
   },
   "file_extension": ".py",
   "mimetype": "text/x-python",
   "name": "python",
   "nbconvert_exporter": "python",
   "pygments_lexer": "ipython3",
   "version": "3.9.7"
  }
 },
 "nbformat": 4,
 "nbformat_minor": 5
}
