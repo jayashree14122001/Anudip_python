{
 "cells": [
  {
   "cell_type": "code",
   "execution_count": 2,
   "id": "3747b4ef-fa1f-49f4-88c6-c5ae0cfb2577",
   "metadata": {},
   "outputs": [],
   "source": [
    "'''Write a Pandas program to create a dataframe from a dictionary and\n",
    "display it.\n",
    "Sample data:\n",
    "score={'Math':[78,85,96,80,86], 'English':[84,94,89,83,86],'Hindi':[86,97,96,72,83]}'''\n",
    "\n",
    "import pandas as pd  #importing pandas library as pd"
   ]
  },
  {
   "cell_type": "code",
   "execution_count": 4,
   "id": "ae3ba9ef-ef2b-468a-b8fe-5b1ced3be8da",
   "metadata": {},
   "outputs": [
    {
     "name": "stdout",
     "output_type": "stream",
     "text": [
      "   Math  English  Hindi\n",
      "0    78       84     86\n",
      "1    85       94     97\n",
      "2    96       89     96\n",
      "3    80       83     72\n",
      "4    86       86     83\n"
     ]
    }
   ],
   "source": [
    "#creating a dataframe named 'df' from a dictionary\n",
    "df = pd.DataFrame({'Math':[78,85,96,80,86], 'English':[84,94,89,83,86],'Hindi':[86,97,96,72,83]})\n",
    "\n",
    "print(df)   #printing the created dataframe from a dictionary"
   ]
  },
  {
   "cell_type": "code",
   "execution_count": null,
   "id": "d231bc28-51b6-4e0b-8d67-9536b6acfc80",
   "metadata": {},
   "outputs": [],
   "source": []
  }
 ],
 "metadata": {
  "kernelspec": {
   "display_name": "Python 3 (ipykernel)",
   "language": "python",
   "name": "python3"
  },
  "language_info": {
   "codemirror_mode": {
    "name": "ipython",
    "version": 3
   },
   "file_extension": ".py",
   "mimetype": "text/x-python",
   "name": "python",
   "nbconvert_exporter": "python",
   "pygments_lexer": "ipython3",
   "version": "3.9.7"
  }
 },
 "nbformat": 4,
 "nbformat_minor": 5
}
