{
 "cells": [
  {
   "cell_type": "code",
   "execution_count": 1,
   "id": "b33c3ef3-09fe-4a99-8460-8719b17b76dc",
   "metadata": {},
   "outputs": [],
   "source": [
    "''' Write a Pandas program to create a Pivot table and find the item wise unit sold.'''\n",
    "import pandas as pd     #importing pandas library as pd\n",
    "import numpy as np      #importing numpy library as np"
   ]
  },
  {
   "cell_type": "code",
   "execution_count": 2,
   "id": "fccdb25d-4f96-46eb-bb44-a3e56f399856",
   "metadata": {},
   "outputs": [],
   "source": [
    "#read the csv file into the DataFrame\n",
    "df = pd.read_csv(\"salesdata.csv\")     #csv file named \"salesdata.csv\" is saved in the folder"
   ]
  },
  {
   "cell_type": "code",
   "execution_count": 6,
   "id": "b2154863-7045-42ba-aa2d-41f540b8f970",
   "metadata": {},
   "outputs": [
    {
     "name": "stdout",
     "output_type": "stream",
     "text": [
      "              Units\n",
      "Item               \n",
      "Cell Phone      278\n",
      "Desk             10\n",
      "Home Theater    722\n",
      "Television      716\n",
      "Video Games     395\n"
     ]
    }
   ],
   "source": [
    "# create a Pivot table and find the item wise unit sold\n",
    "Item_sold = df.pivot_table(index='Item', values='Units', aggfunc='sum')\n",
    "\n",
    "print(Item_sold)   # Display the pivot table"
   ]
  },
  {
   "cell_type": "code",
   "execution_count": null,
   "id": "7ebbdf86-07c3-4178-9a42-9d34ec97ae88",
   "metadata": {},
   "outputs": [],
   "source": []
  },
  {
   "cell_type": "code",
   "execution_count": null,
   "id": "90f91f35-1418-4e63-a623-d683c4dee38e",
   "metadata": {},
   "outputs": [],
   "source": []
  }
 ],
 "metadata": {
  "kernelspec": {
   "display_name": "Python 3 (ipykernel)",
   "language": "python",
   "name": "python3"
  },
  "language_info": {
   "codemirror_mode": {
    "name": "ipython",
    "version": 3
   },
   "file_extension": ".py",
   "mimetype": "text/x-python",
   "name": "python",
   "nbconvert_exporter": "python",
   "pygments_lexer": "ipython3",
   "version": "3.9.7"
  }
 },
 "nbformat": 4,
 "nbformat_minor": 5
}
