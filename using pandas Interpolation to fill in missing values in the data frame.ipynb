{
 "cells": [
  {
   "cell_type": "markdown",
   "id": "09235182-a937-44a4-bcae-844bf1c2e392",
   "metadata": {},
   "source": [
    "Write a python program using pandas Interpolation to fill in missing values in the data frame.\n",
    "Input:\n",
    "df = pd.DataFrame({\"Math\":[12, 4, 7, None, 2],\"English\":[4, 3, 57, 3, None],\"Hindi\":[20, 16, None, 3, 8],\"Science\":[14, 3, None, None, 6]})"
   ]
  },
  {
   "cell_type": "code",
   "execution_count": null,
   "id": "6d84b82d-17df-46fa-beb5-1757f5687900",
   "metadata": {},
   "outputs": [],
   "source": []
  }
 ],
 "metadata": {
  "kernelspec": {
   "display_name": "Python 3 (ipykernel)",
   "language": "python",
   "name": "python3"
  },
  "language_info": {
   "codemirror_mode": {
    "name": "ipython",
    "version": 3
   },
   "file_extension": ".py",
   "mimetype": "text/x-python",
   "name": "python",
   "nbconvert_exporter": "python",
   "pygments_lexer": "ipython3",
   "version": "3.9.7"
  }
 },
 "nbformat": 4,
 "nbformat_minor": 5
}
