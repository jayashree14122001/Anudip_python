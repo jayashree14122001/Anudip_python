{
 "cells": [
  {
   "cell_type": "code",
   "execution_count": 2,
   "id": "148fa25a-2f04-4e1a-9c80-9bfd601879c2",
   "metadata": {},
   "outputs": [],
   "source": [
    "'''Suppose you want to track and analyze the monthly energy consumption in your home. \n",
    "You have recorded the monthly energy usage for electricity and gas over a year,\n",
    "and you want to represent this data using Pandas Series.'''\n",
    "\n",
    "import pandas as pd"
   ]
  },
  {
   "cell_type": "code",
   "execution_count": 3,
   "id": "6b8e7879-c513-49e4-8710-ca2ab865cf41",
   "metadata": {},
   "outputs": [
    {
     "name": "stdout",
     "output_type": "stream",
     "text": [
      "Electricity Usage:\n",
      "January      350\n",
      "February     320\n",
      "March        310\n",
      "April        330\n",
      "May          340\n",
      "June         370\n",
      "Jully        380\n",
      "August       360\n",
      "September    350\n",
      "October      330\n",
      "November     320\n",
      "December     330\n",
      "Name: Electricity Usage (kwh), dtype: int64\n",
      "\n",
      "Gas Usage:\n",
      "January      20\n",
      "February     18\n",
      "March        16\n",
      "April        15\n",
      "May          12\n",
      "June         10\n",
      "Jully         8\n",
      "August        9\n",
      "September    12\n",
      "October      15\n",
      "November     17\n",
      "December     19\n",
      "Name: Gas Usage (therms), dtype: int64\n"
     ]
    }
   ],
   "source": [
    "# Months in a year\n",
    "months =['January','February','March','April','May','June','Jully','August','September','October','November','December']\n",
    "\n",
    "# Monthly energy consumption data (example data in kilowatt-hours for electricity and therms for gas)\n",
    "electricity_usage = [350, 320, 310, 330, 340, 370, 380, 360, 350, 330, 320, 330]\n",
    "gas_usage = [20, 18, 16, 15, 12, 10, 8, 9, 12, 15, 17, 19]\n",
    "\n",
    "electricity_usage_series= pd.Series(electricity_usage,index=months,name='Electricity Usage (kwh)')  #creating a pandas series for electricity usage\n",
    "print(\"Electricity Usage:\")         #printing the heading for the series\n",
    "print(electricity_usage_series)     #printing the created pandas series\n",
    "\n",
    "print()                             #printing a blank line\n",
    "\n",
    "gas_usage_series= pd.Series(gas_usage,index=months,name='Gas Usage (therms)')    #creating a pandas series for Gas usage\n",
    "print(\"Gas Usage:\")                 #printing the heading for the series\n",
    "print(gas_usage_series)             #printing the created pandas series\n"
   ]
  },
  {
   "cell_type": "code",
   "execution_count": null,
   "id": "0e2b6d31-f589-44d1-bfc9-0b8adade9be3",
   "metadata": {},
   "outputs": [],
   "source": []
  },
  {
   "cell_type": "code",
   "execution_count": null,
   "id": "42f763aa-4f7a-4761-af3f-2c7d8dd6f152",
   "metadata": {},
   "outputs": [],
   "source": []
  }
 ],
 "metadata": {
  "kernelspec": {
   "display_name": "Python 3 (ipykernel)",
   "language": "python",
   "name": "python3"
  },
  "language_info": {
   "codemirror_mode": {
    "name": "ipython",
    "version": 3
   },
   "file_extension": ".py",
   "mimetype": "text/x-python",
   "name": "python",
   "nbconvert_exporter": "python",
   "pygments_lexer": "ipython3",
   "version": "3.9.7"
  }
 },
 "nbformat": 4,
 "nbformat_minor": 5
}
