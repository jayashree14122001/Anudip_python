{
 "cells": [
  {
   "cell_type": "code",
   "execution_count": 3,
   "id": "690203a1-5123-4032-86b4-3ae7d23d3715",
   "metadata": {},
   "outputs": [],
   "source": [
    "'''Write a Pandas program to drop the rows where at least one element is missing in a given DataFrame.\n",
    "Input:\n",
    "df = pd.DataFrame({\n",
    "'ord_no':[70001,np.nan,70002,70004,np.nan,70005,np.nan,70010,70003,70012,np.nan,70013],\n",
    "'purch_amt':[150.5,270.65,65.26,110.5,948.5,2400.6,5760,1983.43,2480.4,250.45,75.29,3045.6],\n",
    "'ord_date':['2012-10-05','2012-09-10',np.nan,'2012-08-17','2012-09-10','2012-07-27','2012-09-10',\n",
    "'2012-10-10','2012-10-10','2012-06-27','2012-08-17','2012-04-25'],\n",
    "'customer_id':[3002,3001,3001,3003,3002,3001,3001,3004,3003,3002,3001,3001],\n",
    "'salesman_id':[5002,5003,5001,np.nan,5002,5001,5001,np.nan,5003,5002,5003,np.nan]})'''\n",
    "import pandas as pd   #importing pandas library as pd\n",
    "import numpy as np    #importing numpy library as np"
   ]
  },
  {
   "cell_type": "code",
   "execution_count": 5,
   "id": "ce952fd0-2012-4b48-a368-62a467f95c06",
   "metadata": {},
   "outputs": [
    {
     "name": "stdout",
     "output_type": "stream",
     "text": [
      "Original Orders DataFrame :\n",
      "     ord_no  purch_amt    ord_date  customer_id  salesman_id\n",
      "0   70001.0     150.50  2012-10-05         3002       5002.0\n",
      "1       NaN     270.65  2012-09-10         3001       5003.0\n",
      "2   70002.0      65.26         NaN         3001       5001.0\n",
      "3   70004.0     110.50  2012-08-17         3003          NaN\n",
      "4       NaN     948.50  2012-09-10         3002       5002.0\n",
      "5   70005.0    2400.60  2012-07-27         3001       5001.0\n",
      "6       NaN    5760.00  2012-09-10         3001       5001.0\n",
      "7   70010.0    1983.43  2012-10-10         3004          NaN\n",
      "8   70003.0    2480.40  2012-10-10         3003       5003.0\n",
      "9   70012.0     250.45  2012-06-27         3002       5002.0\n",
      "10      NaN      75.29  2012-08-17         3001       5003.0\n",
      "11  70013.0    3045.60  2012-04-25         3001          NaN\n"
     ]
    }
   ],
   "source": [
    "#creating a dataframe named 'df' from a dictionary\n",
    "df = pd.DataFrame({\n",
    "'ord_no':[70001,np.nan,70002,70004,np.nan,70005,np.nan,70010,70003,70012,np.nan,70013],\n",
    "'purch_amt':[150.5,270.65,65.26,110.5,948.5,2400.6,5760,1983.43,2480.4,250.45,75.29,3045.6],\n",
    "'ord_date':['2012-10-05','2012-09-10',np.nan,'2012-08-17','2012-09-10','2012-07-27','2012-09-10',\n",
    "            '2012-10-10','2012-10-10','2012-06-27','2012-08-17','2012-04-25'],\n",
    "'customer_id':[3002,3001,3001,3003,3002,3001,3001,3004,3003,3002,3001,3001],\n",
    "'salesman_id':[5002,5003,5001,np.nan,5002,5001,5001,np.nan,5003,5002,5003,np.nan]})\n",
    "print(\"Original Orders DataFrame :\")         #Printing a statement\n",
    "print(df)                                    #Printing the dataframe stored in df"
   ]
  },
  {
   "cell_type": "code",
   "execution_count": 11,
   "id": "a2ef66e9-8002-498c-b148-20796ea9b208",
   "metadata": {},
   "outputs": [
    {
     "name": "stdout",
     "output_type": "stream",
     "text": [
      "Drop the rows where at least one element is missing:\n",
      "    ord_no  purch_amt    ord_date  customer_id  salesman_id\n",
      "0  70001.0     150.50  2012-10-05         3002       5002.0\n",
      "5  70005.0    2400.60  2012-07-27         3001       5001.0\n",
      "8  70003.0    2480.40  2012-10-10         3003       5003.0\n",
      "9  70012.0     250.45  2012-06-27         3002       5002.0\n"
     ]
    }
   ],
   "source": [
    "df.dropna(inplace=True)                                         #Drop null values from dataframe \n",
    "print(\"Drop the rows where at least one element is missing:\")   #Printing a statement\n",
    "print(df)                                                       #Printing the dataframe after dropping the rows having null value"
   ]
  },
  {
   "cell_type": "code",
   "execution_count": null,
   "id": "c7515198-7cc3-42c0-8672-5321ea497886",
   "metadata": {},
   "outputs": [],
   "source": []
  }
 ],
 "metadata": {
  "kernelspec": {
   "display_name": "Python 3 (ipykernel)",
   "language": "python",
   "name": "python3"
  },
  "language_info": {
   "codemirror_mode": {
    "name": "ipython",
    "version": 3
   },
   "file_extension": ".py",
   "mimetype": "text/x-python",
   "name": "python",
   "nbconvert_exporter": "python",
   "pygments_lexer": "ipython3",
   "version": "3.9.7"
  }
 },
 "nbformat": 4,
 "nbformat_minor": 5
}
