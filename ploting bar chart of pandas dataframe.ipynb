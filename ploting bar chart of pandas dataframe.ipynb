{
 "cells": [
  {
   "cell_type": "code",
   "execution_count": 78,
   "id": "7dcb4f8f-4d9e-46cd-a8f0-dc167449fd21",
   "metadata": {},
   "outputs": [],
   "source": [
    "'''Write a Pandas program to split the following data frame into groups based on Class and count the number of students in that particular\n",
    "class.Also generate a bar chart based on the result and explain the conclusion.\n",
    "'''\n",
    "import pandas as pd    #importing pandas library as pd"
   ]
  },
  {
   "cell_type": "code",
   "execution_count": 81,
   "id": "b4af8086-3d25-4fa7-aec7-6dd7756df02b",
   "metadata": {},
   "outputs": [
    {
     "name": "stdout",
     "output_type": "stream",
     "text": [
      "Original DataFrame:\n",
      "  school_code class            name  age  height  weight  address\n",
      "0        s001     V  Alberto Franco   12     173      35  street1\n",
      "1        s002    VI    Gino Mcneill   12     192      32  street2\n",
      "2        s003    VI     Ryan Parkes   13     186      33  street3\n",
      "3        s001    VI    Eesha Hinton   13     167      30  street1\n",
      "4        s002     V    Gino Mcneill   14     151      31  street2\n",
      "5        s004    VI    David Parkes   12     159      32  street4\n"
     ]
    }
   ],
   "source": [
    "#creating a dataframe named 'student_data' from a dictionary\n",
    "student_data = pd.DataFrame({\n",
    "'school_code': ['s001','s002','s003','s001','s002','s004'],\n",
    "'class': ['V', 'VI', 'VI', 'VI', 'V', 'VI'],\n",
    "'name': ['Alberto Franco','Gino Mcneill','Ryan Parkes', 'Eesha Hinton', 'Gino Mcneill','David Parkes'],\n",
    "'age': [12, 12, 13, 13, 14, 12],\n",
    "'height': [173, 192, 186, 167, 151, 159],\n",
    "'weight': [35, 32, 33, 30, 31, 32],\n",
    "'address': ['street1', 'street2', 'street3', 'street1', 'street2', 'street4']})\n",
    "print(\"Original DataFrame:\")      #printing a statement\n",
    "print(student_data)               #printing the created dataframe from a dictionary"
   ]
  },
  {
   "cell_type": "code",
   "execution_count": 80,
   "id": "5488f51e-9fac-4b59-86ab-464d3b855b75",
   "metadata": {},
   "outputs": [
    {
     "name": "stdout",
     "output_type": "stream",
     "text": [
      "Class wise No. of students count:\n"
     ]
    },
    {
     "data": {
      "text/plain": [
       "class\n",
       "VI    4\n",
       "V     2\n",
       "Name: count, dtype: int64"
      ]
     },
     "execution_count": 80,
     "metadata": {},
     "output_type": "execute_result"
    }
   ],
   "source": [
    "print(\"Class wise No. of students count:\")              #printing a statement\n",
    "student_data['class'].value_counts()                    #counting the number of students in each class"
   ]
  },
  {
   "cell_type": "code",
   "execution_count": 75,
   "id": "09e13fb5-018b-488f-ac68-b430ea8912d9",
   "metadata": {},
   "outputs": [
    {
     "data": {
      "text/plain": [
       "<Axes: xlabel='class'>"
      ]
     },
     "execution_count": 75,
     "metadata": {},
     "output_type": "execute_result"
    },
    {
     "data": {
      "image/png": "[encoded data removed]",
      "text/plain": [
       "<Figure size 500x300 with 1 Axes>"
      ]
     },
     "metadata": {},
     "output_type": "display_data"
    }
   ],
   "source": [
    "student_data['class'].value_counts().plot(kind='bar',figsize=(5,3))  # Plotting the bar chart"
   ]
  },
  {
   "cell_type": "markdown",
   "id": "f078ebbe-b4af-49ee-8b53-4f860b8917fc",
   "metadata": {},
   "source": [
    "Above bar chart shows that the maximun students are studying in class VI and less students are from class V\n",
    "4 students are from class VI and 2 from class V"
   ]
  },
  {
   "cell_type": "code",
   "execution_count": 76,
   "id": "bea624f0-87b6-4f56-8f47-aba54b063a8f",
   "metadata": {},
   "outputs": [
    {
     "data": {
      "image/png": "[encoded data removed]",
      "text/plain": [
       "<Figure size 500x400 with 1 Axes>"
      ]
     },
     "metadata": {},
     "output_type": "display_data"
    }
   ],
   "source": [
    "# Grouping by 'class' and counting students in each class\n",
    "class_counts = student_data.groupby('class')['name'].count().reset_index()\n",
    "\n",
    "# Plotting the bar chart\n",
    "plt.figure(figsize=(5, 4))\n",
    "plt.bar(class_counts['class'], class_counts['name'], color='skyblue')\n",
    "plt.xlabel('Class-->')\n",
    "plt.ylabel('Number of Students-->')\n",
    "plt.title('Number of Students in Each Class')\n",
    "plt.show()"
   ]
  },
  {
   "cell_type": "code",
   "execution_count": null,
   "id": "c5d9e07f-1d01-45d9-a4f9-1b9df3315e86",
   "metadata": {},
   "outputs": [],
   "source": []
  },
  {
   "cell_type": "code",
   "execution_count": null,
   "id": "7fbc5ae7-113c-4325-a7df-f7c922053eac",
   "metadata": {},
   "outputs": [],
   "source": []
  }
 ],
 "metadata": {
  "kernelspec": {
   "display_name": "Python 3 (ipykernel)",
   "language": "python",
   "name": "python3"
  },
  "language_info": {
   "codemirror_mode": {
    "name": "ipython",
    "version": 3
   },
   "file_extension": ".py",
   "mimetype": "text/x-python",
   "name": "python",
   "nbconvert_exporter": "python",
   "pygments_lexer": "ipython3",
   "version": "3.9.7"
  }
 },
 "nbformat": 4,
 "nbformat_minor": 5
}
