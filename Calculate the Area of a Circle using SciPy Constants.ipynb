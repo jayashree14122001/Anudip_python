{
 "cells": [
  {
   "cell_type": "markdown",
   "id": "2ee59514-d654-4125-820e-eddb49379091",
   "metadata": {},
   "source": [
    "Write a python program to read the radius from the below .csv file and then Calculate the Area of a Circle using SciPy Constants.\n",
    "After that display the first 5 records and also save the calculated result into a new .csv file.\n",
    "Input:\n",
    "https://raw.githubusercontent.com/AnudipAE/DANLC/master/radius_data.csv"
   ]
  },
  {
   "cell_type": "code",
   "execution_count": 23,
   "id": "1046fe61-28fa-4ec3-83dc-81c61b765a04",
   "metadata": {},
   "outputs": [],
   "source": [
    "import pandas as pd                  #importing pandas library as pd\n",
    "import scipy                         #importing scipy\n",
    "from scipy.constants import pi       #importing pi constant from scipy.constants library"
   ]
  },
  {
   "cell_type": "code",
   "execution_count": 24,
   "id": "4e28c522-5b67-4a65-a08c-32ad556250df",
   "metadata": {},
   "outputs": [],
   "source": [
    "url = \"https://raw.githubusercontent.com/AnudipAE/DANLC/master/radius_data.csv\"  #storing the csv file's url \n",
    "df = pd.read_csv(url)           # Read the CSV file and storing into the variable 'df'"
   ]
  },
  {
   "cell_type": "code",
   "execution_count": 26,
   "id": "3752e184-0c77-4329-a860-0c5739aa9998",
   "metadata": {},
   "outputs": [
    {
     "name": "stdout",
     "output_type": "stream",
     "text": [
      "First 5 records:\n",
      "  CircleName    Radius        Area\n",
      "0        SAY  3.798717   45.333960\n",
      "1        PSN  9.958397  311.550720\n",
      "2        JDP  5.142711   83.087197\n",
      "3        AUO  3.319584   34.619210\n",
      "4        OHG  1.138395    4.071325\n",
      "\n",
      "Calculated areas saved to 'calculated_areas.csv'.\n"
     ]
    }
   ],
   "source": [
    "df['Area'] = df['Radius']**2 * pi                  # Calculate area for each radius\n",
    "\n",
    "print(\"First 5 records:\")                          # Display first 5 records\n",
    "print(df.head())\n",
    "\n",
    "output_file = \"calculated_areas.csv\"               # Save calculated result to a new CSV file named \"calculated_areas.csv\"\n",
    "df.to_csv(output_file, index=False)\n",
    "print(f\"\\nCalculated areas saved to '{output_file}'.\")  #printing a statement"
   ]
  },
  {
   "cell_type": "code",
   "execution_count": null,
   "id": "467c38d4-d468-4797-882c-99c1508ca960",
   "metadata": {},
   "outputs": [],
   "source": []
  }
 ],
 "metadata": {
  "kernelspec": {
   "display_name": "Python 3 (ipykernel)",
   "language": "python",
   "name": "python3"
  },
  "language_info": {
   "codemirror_mode": {
    "name": "ipython",
    "version": 3
   },
   "file_extension": ".py",
   "mimetype": "text/x-python",
   "name": "python",
   "nbconvert_exporter": "python",
   "pygments_lexer": "ipython3",
   "version": "3.9.7"
  }
 },
 "nbformat": 4,
 "nbformat_minor": 5
}
