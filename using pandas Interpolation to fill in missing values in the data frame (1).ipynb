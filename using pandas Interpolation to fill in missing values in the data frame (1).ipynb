{
 "cells": [
  {
   "cell_type": "markdown",
   "id": "09235182-a937-44a4-bcae-844bf1c2e392",
   "metadata": {},
   "source": [
    "Write a python program using pandas Interpolation to fill in missing values in the data frame.\n",
    "Input:\n",
    "df = pd.DataFrame({\"Math\":[12, 4, 7, None, 2],\"English\":[4, 3, 57, 3, None],\"Hindi\":[20, 16, None, 3, 8],\"Science\":[14, 3, None, None, 6]})"
   ]
  },
  {
   "cell_type": "code",
   "execution_count": 7,
   "id": "6d84b82d-17df-46fa-beb5-1757f5687900",
   "metadata": {},
   "outputs": [
    {
     "name": "stdout",
     "output_type": "stream",
     "text": [
      "Original DataFrame:\n",
      "   Math  English  Hindi  Science\n",
      "0  12.0      4.0   20.0     14.0\n",
      "1   4.0      3.0   16.0      3.0\n",
      "2   7.0     57.0    NaN      NaN\n",
      "3   NaN      3.0    3.0      NaN\n",
      "4   2.0      NaN    8.0      6.0\n",
      "\n",
      "DataFrame after interpolation:\n",
      "   Math  English  Hindi  Science\n",
      "0  12.0      4.0   20.0     14.0\n",
      "1   4.0      3.0   16.0      3.0\n",
      "2   7.0     57.0    9.5      4.0\n",
      "3   4.5      3.0    3.0      5.0\n",
      "4   2.0      3.0    8.0      6.0\n"
     ]
    }
   ],
   "source": [
    "import pandas as pd    #importing pandas library as pd\n",
    "import numpy as np     #importing numpy library as np\n",
    "\n",
    "# Given DataFrame\n",
    "df = pd.DataFrame({\"Math\": [12, 4, 7, None, 2],\"English\": [4, 3, 57, 3, None],\"Hindi\": [20, 16, None, 3, 8],\"Science\": [14, 3, None, None, 6]})\n",
    "\n",
    "# Interpolate missing values using linear method\n",
    "df_interpolated = df.interpolate(method='linear', limit_direction='both')\n",
    "\n",
    "print(\"Original DataFrame:\")  \n",
    "print(df)                        #displaying original dataframe\n",
    "print(\"\\nDataFrame after interpolation:\")\n",
    "print(df_interpolated)           #displaying interpolated dataframe\n"
   ]
  },
  {
   "cell_type": "code",
   "execution_count": null,
   "id": "67244287-430a-4711-aaa5-8d866bbffc24",
   "metadata": {},
   "outputs": [],
   "source": []
  },
  {
   "cell_type": "code",
   "execution_count": null,
   "id": "ce251dca-7607-4d34-b57f-79fad8de2cfc",
   "metadata": {},
   "outputs": [],
   "source": []
  },
  {
   "cell_type": "code",
   "execution_count": null,
   "id": "f6f373cb-0d84-46ea-88e4-61a5c081a68c",
   "metadata": {},
   "outputs": [],
   "source": []
  }
 ],
 "metadata": {
  "kernelspec": {
   "display_name": "Python 3 (ipykernel)",
   "language": "python",
   "name": "python3"
  },
  "language_info": {
   "codemirror_mode": {
    "name": "ipython",
    "version": 3
   },
   "file_extension": ".py",
   "mimetype": "text/x-python",
   "name": "python",
   "nbconvert_exporter": "python",
   "pygments_lexer": "ipython3",
   "version": "3.9.7"
  }
 },
 "nbformat": 4,
 "nbformat_minor": 5
}
